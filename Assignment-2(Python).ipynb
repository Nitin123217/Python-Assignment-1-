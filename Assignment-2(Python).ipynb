{
 "cells": [
  {
   "cell_type": "code",
   "execution_count": null,
   "metadata": {},
   "outputs": [],
   "source": [
    "# Python (Assignment-2)"
   ]
  },
  {
   "cell_type": "code",
   "execution_count": 1,
   "metadata": {},
   "outputs": [
    {
     "name": "stdout",
     "output_type": "stream",
     "text": [
      "34\n"
     ]
    }
   ],
   "source": [
    "# Answer-1\n",
    "\n",
    "def Fibonacci(n):\n",
    "    if n<=0:\n",
    "        print(\"Incorrect input\")\n",
    "    elif n == 1:\n",
    "        return 0 \n",
    "    elif n == 2:\n",
    "        return 1\n",
    "    else:\n",
    "        return Fibonacci(n-1)+Fibonacci(n-2)\n",
    "print(Fibonacci(10))    "
   ]
  },
  {
   "cell_type": "code",
   "execution_count": null,
   "metadata": {},
   "outputs": [],
   "source": [
    "# Answer-2\n",
    "\n",
    "n = int(input(\"Enter the number:\"))\n",
    "c=0\n",
    "a=1\n",
    "b=2\n",
    "if n==0 or n==1:\n",
    "    print(\"Yes\")\n",
    "else:\n",
    "    while c<n:\n",
    "        c=a+b\n",
    "        b=a\n",
    "        a=c\n",
    "    if c==n:\n",
    "        print(\"Yes\")\n",
    "    else:\n",
    "        print(\"No\") "
   ]
  },
  {
   "cell_type": "code",
   "execution_count": 7,
   "metadata": {},
   "outputs": [
    {
     "name": "stdout",
     "output_type": "stream",
     "text": [
      "Position of n'th multiple of k inFibonacci series is 5\n"
     ]
    }
   ],
   "source": [
    "# Answer-3\n",
    "\n",
    "def findPosition(k, n):\n",
    "    f1 = 0\n",
    "    f2 = 1\n",
    "    i = 2;\n",
    "    while i!=0:\n",
    "        f3 = f1 + f2;\n",
    "        f1 = f2;\n",
    "        f2 =f3;\n",
    "        \n",
    "        if f2%k == 0:\n",
    "            return n*1\n",
    "        i+=1\n",
    "        \n",
    "    return\n",
    "\n",
    "\n",
    "n =5;\n",
    "k =4;\n",
    "print(\"Position of n\\'th multiple of k in\" \n",
    "                \"Fibonacci series is\", findPosition(k,n));"
   ]
  },
  {
   "cell_type": "code",
   "execution_count": 8,
   "metadata": {},
   "outputs": [
    {
     "name": "stdout",
     "output_type": "stream",
     "text": [
      "The ASCII value of 'n' is 110\n"
     ]
    }
   ],
   "source": [
    "# Answer-4\n",
    "\n",
    "c = 'n'\n",
    "print(\"The ASCII value of '\" + c + \"' is\",ord(c))"
   ]
  },
  {
   "cell_type": "code",
   "execution_count": 9,
   "metadata": {},
   "outputs": [
    {
     "name": "stdout",
     "output_type": "stream",
     "text": [
      "55\n"
     ]
    }
   ],
   "source": [
    "# Answer-5\n",
    "\n",
    "def squaresum(n):\n",
    "    sm = 0\n",
    "    for i in range(1, n+1):\n",
    "        sm = sm + (i*i)\n",
    "    return sm\n",
    "n =5\n",
    "print(squaresum(n))"
   ]
  },
  {
   "cell_type": "code",
   "execution_count": 10,
   "metadata": {},
   "outputs": [
    {
     "name": "stdout",
     "output_type": "stream",
     "text": [
      "100\n"
     ]
    }
   ],
   "source": [
    "# Answer-6\n",
    "\n",
    "def sumOfSeries(n):\n",
    "    sum = 0\n",
    "    for i in range(1, n+1):\n",
    "        sum +=i*i*i\n",
    "    return sum\n",
    "n =4\n",
    "print(sumOfSeries(n))\n",
    "    "
   ]
  },
  {
   "cell_type": "code",
   "execution_count": 11,
   "metadata": {},
   "outputs": [
    {
     "name": "stdout",
     "output_type": "stream",
     "text": [
      "Sum of the array is 113\n"
     ]
    }
   ],
   "source": [
    "# Answer-7\n",
    "\n",
    "def _sum(arr):\n",
    "    sum = 0\n",
    "    for i in arr:\n",
    "        sum = sum + i\n",
    "    return(sum)    \n",
    "arr = []\n",
    "arr = [12, 56, 45]\n",
    "ans = _sum(arr)\n",
    "print('Sum of the array is', ans)"
   ]
  },
  {
   "cell_type": "code",
   "execution_count": 12,
   "metadata": {},
   "outputs": [
    {
     "name": "stdout",
     "output_type": "stream",
     "text": [
      "Largest in given array is 855\n"
     ]
    }
   ],
   "source": [
    "# Answer-8\n",
    "\n",
    "def largest(arr,n):\n",
    "    max = arr[0]\n",
    "    for i in range(1, n):\n",
    "        if arr[i] > max:\n",
    "            max = arr[i] \n",
    "    return max\n",
    "arr = [125, 526, 458, 855]\n",
    "Ans = largest(arr,n)\n",
    "print(\"Largest in given array is\", Ans)"
   ]
  },
  {
   "cell_type": "code",
   "execution_count": 13,
   "metadata": {},
   "outputs": [
    {
     "name": "stdout",
     "output_type": "stream",
     "text": [
      "Array after left rotation is:  [3, 4, 5, 6, 7, 1, 2]\n"
     ]
    }
   ],
   "source": [
    "# Answer-9\n",
    "\n",
    "def rotateArray(arr, n, d):\n",
    "    temp = []\n",
    "    i = 0\n",
    "    while (i<d):\n",
    "        temp.append(arr[i])\n",
    "        i = i+1\n",
    "    i = 0\n",
    "    while(d<n):\n",
    "        arr[i] = arr[d]\n",
    "        i = i+1\n",
    "        d = d+1\n",
    "    arr[:] = arr[: i] + temp\n",
    "    return arr\n",
    "\n",
    "arr = [1, 2, 3, 4, 5, 6, 7]\n",
    "print(\"Array after left rotation is: \", end=' ')\n",
    "print(rotateArray(arr, len(arr), 2))"
   ]
  },
  {
   "cell_type": "code",
   "execution_count": 15,
   "metadata": {},
   "outputs": [
    {
     "name": "stdout",
     "output_type": "stream",
     "text": [
      "21 69 25 48 56 45 "
     ]
    }
   ],
   "source": [
    "# Answer-10\n",
    "\n",
    "def splitArr(arr, n, k):\n",
    "    for i in range(0, k):\n",
    "        x = arr[0]\n",
    "        for j in range(0, n-1):\n",
    "            arr[j] = arr[j + 1]\n",
    "        arr[n-1] = x\n",
    "arr = [56, 45, 21, 69, 25, 48] \n",
    "n = len(arr)\n",
    "position = 2\n",
    "splitArr(arr, n, position)\n",
    "for i in range(0, n):\n",
    "    print(arr[i], end = ' ')"
   ]
  }
 ],
 "metadata": {
  "kernelspec": {
   "display_name": "Python 3",
   "language": "python",
   "name": "python3"
  },
  "language_info": {
   "codemirror_mode": {
    "name": "ipython",
    "version": 3
   },
   "file_extension": ".py",
   "mimetype": "text/x-python",
   "name": "python",
   "nbconvert_exporter": "python",
   "pygments_lexer": "ipython3",
   "version": "3.8.5"
  }
 },
 "nbformat": 4,
 "nbformat_minor": 4
}

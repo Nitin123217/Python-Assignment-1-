{
 "cells": [
  {
   "cell_type": "code",
   "execution_count": 6,
   "metadata": {},
   "outputs": [
    {
     "name": "stdout",
     "output_type": "stream",
     "text": [
      "[1505, 1540, 1575, 1610, 1645, 1680, 1715, 1750, 1785, 1820, 1855, 1890, 1925, 1960, 1995, 2030, 2065, 2100, 2135, 2170, 2205, 2240, 2275, 2310, 2345, 2380, 2415, 2450, 2485, 2520, 2555, 2590, 2625, 2660, 2695]\n"
     ]
    }
   ],
   "source": [
    "# Assignment-1 \n",
    "# Answer-1\n",
    "\n",
    "x1 = []\n",
    "for x in range(1500, 2701):\n",
    "    if(x%7==0) and (x%5==0):\n",
    "        x1.append(x)\n",
    "print(x1)        \n",
    "        "
   ]
  },
  {
   "cell_type": "code",
   "execution_count": 1,
   "metadata": {},
   "outputs": [
    {
     "name": "stdout",
     "output_type": "stream",
     "text": [
      "150\n"
     ]
    }
   ],
   "source": [
    "#Answer-2\n",
    "\n",
    "x1 = 50\n",
    "x2 = 100\n",
    "print(x1+x2)"
   ]
  },
  {
   "cell_type": "code",
   "execution_count": 2,
   "metadata": {},
   "outputs": [
    {
     "name": "stdout",
     "output_type": "stream",
     "text": [
      "20\n"
     ]
    }
   ],
   "source": [
    "# Answer-3\n",
    "\n",
    "x1 = 10\n",
    "x2 = 20\n",
    "print(x1 if x1>=x2 else x2)\n"
   ]
  },
  {
   "cell_type": "code",
   "execution_count": 24,
   "metadata": {},
   "outputs": [
    {
     "name": "stdout",
     "output_type": "stream",
     "text": [
      "Factorial of 5 is 120\n"
     ]
    }
   ],
   "source": [
    "# Answer-4\n",
    "\n",
    "def factorial(n):\n",
    "    return 1 if (n==1 or n==0) else n*factorial(n-1);\n",
    "num = 5;\n",
    "print(\"Factorial of\",num,\"is\",factorial(num))"
   ]
  },
  {
   "cell_type": "code",
   "execution_count": 33,
   "metadata": {},
   "outputs": [
    {
     "name": "stdout",
     "output_type": "stream",
     "text": [
      "The princple is 3\n",
      "The time period is 5\n",
      "The rate of interest is 6\n",
      "The Simple Interest is 0.9\n"
     ]
    },
    {
     "data": {
      "text/plain": [
       "0.9"
      ]
     },
     "execution_count": 33,
     "metadata": {},
     "output_type": "execute_result"
    }
   ],
   "source": [
    "# Answer-5\n",
    "\n",
    "def simple_interest(p,t,r):\n",
    "    print('The princple is',p)\n",
    "    print('The time period is',t)\n",
    "    print('The rate of interest is',r)\n",
    "          \n",
    "    si = (p * t * r)/100\n",
    "    print('The Simple Interest is',si)\n",
    "    return si\n",
    "          \n",
    "simple_interest(3,5,6)         \n",
    "          \n"
   ]
  },
  {
   "cell_type": "code",
   "execution_count": 40,
   "metadata": {},
   "outputs": [
    {
     "name": "stdout",
     "output_type": "stream",
     "text": [
      "Compound interest is 6288.946267774416\n"
     ]
    }
   ],
   "source": [
    "# Answer-6\n",
    "\n",
    "def compound_interest(princple, rate, time):\n",
    "    Amount = princple*(pow((1 + rate / 100), time))\n",
    "    CI = Amount - princple\n",
    "    print(\"Compound interest is\", CI)\n",
    "    \n",
    "compound_interest(10000, 10.25, 5)    "
   ]
  },
  {
   "cell_type": "code",
   "execution_count": 6,
   "metadata": {},
   "outputs": [
    {
     "name": "stdout",
     "output_type": "stream",
     "text": [
      "Enter a number:246\n",
      "246 is not a Armstrong number\n"
     ]
    }
   ],
   "source": [
    "# Answer-7\n",
    "\n",
    "num = int(input(\"Enter a number:\"))\n",
    "sum = 0\n",
    "\n",
    "temp = num\n",
    "while temp > 0:\n",
    "    digit = temp % 10\n",
    "    sum += digit ** 3 \n",
    "    temp //= 10\n",
    "if num == sum:\n",
    "    print(num,'is a Armstrong number')\n",
    "else:\n",
    "    print(num,'is not a Armstrong number')"
   ]
  },
  {
   "cell_type": "code",
   "execution_count": 11,
   "metadata": {},
   "outputs": [
    {
     "name": "stdout",
     "output_type": "stream",
     "text": [
      "Please Enter the radius of circle:10\n",
      "Area of circle is314.0sq ms\n"
     ]
    }
   ],
   "source": [
    "# Answer-8 \n",
    "\n",
    "PI = 3.14\n",
    "radius = int(input(\"Please Enter the radius of circle:\"))\n",
    "area = PI * radius * radius\n",
    "\n",
    "print(\"Area of circle is\" + str(area) + \"sq ms\")\n",
    "     "
   ]
  },
  {
   "cell_type": "code",
   "execution_count": 13,
   "metadata": {},
   "outputs": [
    {
     "name": "stdout",
     "output_type": "stream",
     "text": [
      "Prime numbers between 500 and 600 are:\n",
      "503\n",
      "509\n",
      "521\n",
      "523\n",
      "541\n",
      "547\n",
      "557\n",
      "563\n",
      "569\n",
      "571\n",
      "577\n",
      "587\n",
      "593\n",
      "599\n"
     ]
    }
   ],
   "source": [
    "# Answer-9\n",
    "\n",
    "lower = 500\n",
    "upper = 600\n",
    "print(\"Prime numbers between\", lower, \"and\", upper, \"are:\")\n",
    "for num in range(lower , upper + 1):\n",
    "    if num> 1:\n",
    "        for i in range(2, num):\n",
    "            if(num % i) ==0:\n",
    "                break\n",
    "        else:\n",
    "            print(num)"
   ]
  },
  {
   "cell_type": "code",
   "execution_count": 21,
   "metadata": {},
   "outputs": [
    {
     "name": "stdout",
     "output_type": "stream",
     "text": [
      "25 is not a prime number\n"
     ]
    }
   ],
   "source": [
    "# Answer-10 \n",
    "\n",
    "num = 25\n",
    "x = False\n",
    "if num> 1:\n",
    "    for i in range(2, num):\n",
    "        if(num % i)== 0:\n",
    "            x = True\n",
    "            break\n",
    "if x:\n",
    "    print(num, \"is not a prime number\")\n",
    "else:\n",
    "    print(num, \"is a prime number\")"
   ]
  },
  {
   "cell_type": "code",
   "execution_count": null,
   "metadata": {},
   "outputs": [],
   "source": []
  }
 ],
 "metadata": {
  "kernelspec": {
   "display_name": "Python 3",
   "language": "python",
   "name": "python3"
  },
  "language_info": {
   "codemirror_mode": {
    "name": "ipython",
    "version": 3
   },
   "file_extension": ".py",
   "mimetype": "text/x-python",
   "name": "python",
   "nbconvert_exporter": "python",
   "pygments_lexer": "ipython3",
   "version": "3.8.5"
  }
 },
 "nbformat": 4,
 "nbformat_minor": 4
}
